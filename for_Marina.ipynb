{
 "cells": [
  {
   "cell_type": "markdown",
   "metadata": {},
   "source": [
    "# Nice plots"
   ]
  },
  {
   "cell_type": "code",
   "execution_count": 18,
   "metadata": {},
   "outputs": [],
   "source": [
    "import seaborn as sns\n",
    "import pandas as pd\n",
    "import matplotlib.pyplot as plt"
   ]
  },
  {
   "cell_type": "markdown",
   "metadata": {},
   "source": [
    "## Load data"
   ]
  },
  {
   "cell_type": "code",
   "execution_count": 25,
   "metadata": {},
   "outputs": [
    {
     "data": {
      "text/html": [
       "<div>\n",
       "<style scoped>\n",
       "    .dataframe tbody tr th:only-of-type {\n",
       "        vertical-align: middle;\n",
       "    }\n",
       "\n",
       "    .dataframe tbody tr th {\n",
       "        vertical-align: top;\n",
       "    }\n",
       "\n",
       "    .dataframe thead th {\n",
       "        text-align: right;\n",
       "    }\n",
       "</style>\n",
       "<table border=\"1\" class=\"dataframe\">\n",
       "  <thead>\n",
       "    <tr style=\"text-align: right;\">\n",
       "      <th></th>\n",
       "      <th>0ч</th>\n",
       "      <th>4ч</th>\n",
       "      <th>24ч</th>\n",
       "      <th>7д</th>\n",
       "      <th>14д</th>\n",
       "      <th>30д</th>\n",
       "      <th>180д</th>\n",
       "    </tr>\n",
       "  </thead>\n",
       "  <tbody>\n",
       "    <tr>\n",
       "      <th>мРНК ИЛ-1β</th>\n",
       "      <td>1</td>\n",
       "      <td>2.60</td>\n",
       "      <td>5.00</td>\n",
       "      <td>1.10</td>\n",
       "      <td>1.10</td>\n",
       "      <td>1.10</td>\n",
       "      <td>1.20</td>\n",
       "    </tr>\n",
       "    <tr>\n",
       "      <th>мРНК ФНОα</th>\n",
       "      <td>1</td>\n",
       "      <td>3.50</td>\n",
       "      <td>5.10</td>\n",
       "      <td>1.80</td>\n",
       "      <td>1.50</td>\n",
       "      <td>1.20</td>\n",
       "      <td>1.90</td>\n",
       "    </tr>\n",
       "    <tr>\n",
       "      <th>мРНК IBA-1</th>\n",
       "      <td>1</td>\n",
       "      <td>0.90</td>\n",
       "      <td>1.10</td>\n",
       "      <td>1.00</td>\n",
       "      <td>1.00</td>\n",
       "      <td>1.10</td>\n",
       "      <td>1.10</td>\n",
       "    </tr>\n",
       "    <tr>\n",
       "      <th>ДА</th>\n",
       "      <td>1</td>\n",
       "      <td>0.72</td>\n",
       "      <td>0.68</td>\n",
       "      <td>0.50</td>\n",
       "      <td>0.72</td>\n",
       "      <td>1.10</td>\n",
       "      <td>1.10</td>\n",
       "    </tr>\n",
       "    <tr>\n",
       "      <th>ДОФУК</th>\n",
       "      <td>1</td>\n",
       "      <td>1.00</td>\n",
       "      <td>0.83</td>\n",
       "      <td>0.98</td>\n",
       "      <td>0.87</td>\n",
       "      <td>0.98</td>\n",
       "      <td>1.20</td>\n",
       "    </tr>\n",
       "    <tr>\n",
       "      <th>ГВК</th>\n",
       "      <td>1</td>\n",
       "      <td>0.98</td>\n",
       "      <td>0.98</td>\n",
       "      <td>0.90</td>\n",
       "      <td>0.95</td>\n",
       "      <td>0.98</td>\n",
       "      <td>0.98</td>\n",
       "    </tr>\n",
       "    <tr>\n",
       "      <th>НА</th>\n",
       "      <td>1</td>\n",
       "      <td>2.00</td>\n",
       "      <td>2.10</td>\n",
       "      <td>3.50</td>\n",
       "      <td>3.85</td>\n",
       "      <td>1.10</td>\n",
       "      <td>1.20</td>\n",
       "    </tr>\n",
       "    <tr>\n",
       "      <th>мРНК кальпастатин</th>\n",
       "      <td>1</td>\n",
       "      <td>0.80</td>\n",
       "      <td>1.20</td>\n",
       "      <td>1.10</td>\n",
       "      <td>0.90</td>\n",
       "      <td>0.20</td>\n",
       "      <td>1.00</td>\n",
       "    </tr>\n",
       "    <tr>\n",
       "      <th>мРНК µ-кальпаин</th>\n",
       "      <td>1</td>\n",
       "      <td>1.10</td>\n",
       "      <td>1.60</td>\n",
       "      <td>2.40</td>\n",
       "      <td>1.30</td>\n",
       "      <td>1.00</td>\n",
       "      <td>2.30</td>\n",
       "    </tr>\n",
       "    <tr>\n",
       "      <th>мРНК m-кальпаин</th>\n",
       "      <td>1</td>\n",
       "      <td>0.80</td>\n",
       "      <td>1.00</td>\n",
       "      <td>1.50</td>\n",
       "      <td>1.10</td>\n",
       "      <td>1.10</td>\n",
       "      <td>1.30</td>\n",
       "    </tr>\n",
       "    <tr>\n",
       "      <th>µ-кальпаин</th>\n",
       "      <td>1</td>\n",
       "      <td>1.00</td>\n",
       "      <td>1.80</td>\n",
       "      <td>2.50</td>\n",
       "      <td>2.80</td>\n",
       "      <td>1.10</td>\n",
       "      <td>1.70</td>\n",
       "    </tr>\n",
       "    <tr>\n",
       "      <th>m-кальпаин</th>\n",
       "      <td>1</td>\n",
       "      <td>1.00</td>\n",
       "      <td>2.30</td>\n",
       "      <td>3.00</td>\n",
       "      <td>3.50</td>\n",
       "      <td>2.00</td>\n",
       "      <td>0.85</td>\n",
       "    </tr>\n",
       "  </tbody>\n",
       "</table>\n",
       "</div>"
      ],
      "text/plain": [
       "                   0ч    4ч   24ч    7д   14д   30д  180д\n",
       "мРНК ИЛ-1β          1  2.60  5.00  1.10  1.10  1.10  1.20\n",
       "мРНК ФНОα           1  3.50  5.10  1.80  1.50  1.20  1.90\n",
       "мРНК IBA-1          1  0.90  1.10  1.00  1.00  1.10  1.10\n",
       "ДА                  1  0.72  0.68  0.50  0.72  1.10  1.10\n",
       "ДОФУК               1  1.00  0.83  0.98  0.87  0.98  1.20\n",
       "ГВК                 1  0.98  0.98  0.90  0.95  0.98  0.98\n",
       "НА                  1  2.00  2.10  3.50  3.85  1.10  1.20\n",
       "мРНК кальпастатин   1  0.80  1.20  1.10  0.90  0.20  1.00\n",
       "мРНК µ-кальпаин     1  1.10  1.60  2.40  1.30  1.00  2.30\n",
       "мРНК m-кальпаин     1  0.80  1.00  1.50  1.10  1.10  1.30\n",
       "µ-кальпаин          1  1.00  1.80  2.50  2.80  1.10  1.70\n",
       "m-кальпаин          1  1.00  2.30  3.00  3.50  2.00  0.85"
      ]
     },
     "execution_count": 25,
     "metadata": {},
     "output_type": "execute_result"
    }
   ],
   "source": [
    "df = pd.read_csv('hyp.csv',sep=';')\n",
    "df"
   ]
  },
  {
   "cell_type": "markdown",
   "metadata": {},
   "source": [
    "## Simple Heatmaps"
   ]
  },
  {
   "cell_type": "code",
   "execution_count": 12,
   "metadata": {},
   "outputs": [
    {
     "data": {
      "text/plain": [
       "<matplotlib.axes._subplots.AxesSubplot at 0x1a1c302e48>"
      ]
     },
     "execution_count": 12,
     "metadata": {},
     "output_type": "execute_result"
    },
    {
     "data": {
      "image/png": "[encoded data removed]",
      "text/plain": [
       "<Figure size 432x288 with 2 Axes>"
      ]
     },
     "metadata": {},
     "output_type": "display_data"
    }
   ],
   "source": [
    "sns.heatmap(df)"
   ]
  },
  {
   "cell_type": "code",
   "execution_count": 106,
   "metadata": {},
   "outputs": [
    {
     "data": {
      "image/png": "[encoded data removed]",
      "text/plain": [
       "<Figure size 432x288 with 2 Axes>"
      ]
     },
     "metadata": {},
     "output_type": "display_data"
    }
   ],
   "source": [
    "ax = sns.heatmap(\n",
    "    df, \n",
    "    vmin=df.values.min(), vmax=df.values.max(), center=1,\n",
    "    cmap=sns.diverging_palette(220, 20, n=len(np.unique(df.values)), s=95)\n",
    ")"
   ]
  },
  {
   "cell_type": "code",
   "execution_count": 108,
   "metadata": {},
   "outputs": [
    {
     "data": {
      "image/png": "[encoded data removed]",
      "text/plain": [
       "<Figure size 432x288 with 2 Axes>"
      ]
     },
     "metadata": {},
     "output_type": "display_data"
    }
   ],
   "source": [
    "ax = sns.heatmap(\n",
    "    df, \n",
    "    vmin=0, vmax=df.values.max(),\n",
    "    cmap=sns.cubehelix_palette(dark=0, light=1,n_colors=len(np.unique(df.values))))"
   ]
  },
  {
   "cell_type": "markdown",
   "metadata": {},
   "source": [
    "## Not simple Heatmaps"
   ]
  },
  {
   "cell_type": "code",
   "execution_count": 114,
   "metadata": {},
   "outputs": [],
   "source": [
    "def value_to_color(val):\n",
    "    palette = sns.diverging_palette(220, 20, n=256) # Create the palette\n",
    "    color_min, color_max = [0, 5.1]\n",
    "    val_position = float((val - color_min)) / (color_max - color_min) # position of value in the input range, relative to the length of the input range\n",
    "    ind = int(val_position * (n_colors - 1)) # target index in the color palette\n",
    "    return palette[ind]\n",
    "\n",
    "def heatmap(x, y,v, size=None, grid=True):\n",
    "    fig, ax = plt.subplots()\n",
    "    \n",
    "    # Mapping from column names to integer coordinates\n",
    "    x_labels = [v for v in sorted(x.unique())]\n",
    "    y_labels = [v for v in sorted(y.unique())]\n",
    "    x_to_num = {p[1]:p[0] for p in enumerate(x_labels)} \n",
    "    y_to_num = {p[1]:p[0] for p in enumerate(y_labels)} \n",
    "    \n",
    "    if size is not None:\n",
    "        size_scale = 80\n",
    "        ax.scatter(\n",
    "        x=x.map(x_to_num),\n",
    "        y=y.map(y_to_num),\n",
    "        s=size * size_scale,\n",
    "        c=v.apply(value_to_color), # Vector of square color values, mapped to color palette\n",
    "        marker='s')\n",
    "    else:\n",
    "        ax.scatter(\n",
    "        x=x.map(x_to_num),\n",
    "        y=y.map(y_to_num),\n",
    "        s=100,\n",
    "        c=v.apply(value_to_color), # Vector of square color values, mapped to color palette\n",
    "        marker='s')\n",
    "    \n",
    "    # Show column labels on the axes\n",
    "    ax.set_xticks([x_to_num[v] for v in x_labels])\n",
    "    ax.set_xticklabels(x_labels, rotation=45, horizontalalignment='right')\n",
    "    ax.set_yticks([y_to_num[v] for v in y_labels])\n",
    "    ax.set_yticklabels(y_labels)\n",
    "    if grid:\n",
    "        ax.grid(False, 'major')\n",
    "        ax.grid(True, 'minor')\n",
    "        ax.set_xticks([t + 0.5 for t in ax.get_xticks()], minor=True)\n",
    "        ax.set_yticks([t + 0.5 for t in ax.get_yticks()], minor=True)\n",
    "        ax.set_xlim([-0.5, max([v for v in x_to_num.values()]) + 0.5]) \n",
    "        ax.set_ylim([-0.5, max([v for v in y_to_num.values()]) + 0.5])\n",
    "    "
   ]
  },
  {
   "cell_type": "code",
   "execution_count": 110,
   "metadata": {},
   "outputs": [
    {
     "data": {
      "image/png": "[encoded data removed]",
      "text/plain": [
       "<Figure size 432x288 with 1 Axes>"
      ]
     },
     "metadata": {},
     "output_type": "display_data"
    }
   ],
   "source": [
    "df_melt = pd.melt(df.reset_index(), id_vars='index') # Unpivot the dataframe, so we can get pair of arrays for x and y\n",
    "df_melt.columns = ['x', 'y', 'value']\n",
    "heatmap(x=df_melt['y'], y=df_melt['x'], v=df_melt['value'], size=df_melt['value'].abs())"
   ]
  },
  {
   "cell_type": "code",
   "execution_count": 115,
   "metadata": {},
   "outputs": [
    {
     "data": {
      "image/png": "[encoded data removed]",
      "text/plain": [
       "<Figure size 432x288 with 1 Axes>"
      ]
     },
     "metadata": {},
     "output_type": "display_data"
    }
   ],
   "source": [
    "heatmap(x=df_melt['y'], y=df_melt['x'], v=df_melt['value'], grid=False)"
   ]
  },
  {
   "cell_type": "code",
   "execution_count": null,
   "metadata": {},
   "outputs": [],
   "source": []
  }
 ],
 "metadata": {
  "hide_input": false,
  "kernelspec": {
   "display_name": "Python 3",
   "language": "python",
   "name": "python3"
  },
  "language_info": {
   "codemirror_mode": {
    "name": "ipython",
    "version": 3
   },
   "file_extension": ".py",
   "mimetype": "text/x-python",
   "name": "python",
   "nbconvert_exporter": "python",
   "pygments_lexer": "ipython3",
   "version": "3.6.8"
  },
  "toc": {
   "base_numbering": 1,
   "nav_menu": {},
   "number_sections": true,
   "sideBar": true,
   "skip_h1_title": false,
   "title_cell": "Table of Contents",
   "title_sidebar": "Contents",
   "toc_cell": false,
   "toc_position": {},
   "toc_section_display": true,
   "toc_window_display": false
  },
  "varInspector": {
   "cols": {
    "lenName": 16,
    "lenType": 16,
    "lenVar": 40
   },
   "kernels_config": {
    "python": {
     "delete_cmd_postfix": "",
     "delete_cmd_prefix": "del ",
     "library": "var_list.py",
     "varRefreshCmd": "print(var_dic_list())"
    },
    "r": {
     "delete_cmd_postfix": ") ",
     "delete_cmd_prefix": "rm(",
     "library": "var_list.r",
     "varRefreshCmd": "cat(var_dic_list()) "
    }
   },
   "types_to_exclude": [
    "module",
    "function",
    "builtin_function_or_method",
    "instance",
    "_Feature"
   ],
   "window_display": false
  }
 },
 "nbformat": 4,
 "nbformat_minor": 2
}
